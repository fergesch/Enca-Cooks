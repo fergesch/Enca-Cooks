{
 "cells": [
  {
   "cell_type": "code",
   "execution_count": 1,
   "metadata": {},
   "outputs": [],
   "source": [
    "from __future__ import print_function\n",
    "\n",
    "import os.path\n",
    "\n",
    "from google.auth.transport.requests import Request\n",
    "from google.oauth2.credentials import Credentials\n",
    "from google_auth_oauthlib.flow import InstalledAppFlow\n",
    "from googleapiclient.discovery import build\n",
    "from googleapiclient.errors import HttpError"
   ]
  },
  {
   "cell_type": "code",
   "execution_count": 2,
   "metadata": {},
   "outputs": [],
   "source": [
    "import sys\n",
    "  \n",
    "# setting path\n",
    "sys.path.append('../')\n",
    "  \n",
    "# importing\n",
    "import google_api"
   ]
  },
  {
   "cell_type": "code",
   "execution_count": 3,
   "metadata": {},
   "outputs": [],
   "source": [
    "# DOC_ID = '1kn5OSR-s3LB-8fsFMLqN0tYP1cMUnFhuknGh4KpbV3w'\n",
    "title = 'Test doc'\n",
    "\n",
    "recipe_dict = {\n",
    "            'ingredients': [\n",
    "                '1 cup sugar',\n",
    "                '1/2 cup cocoa powder',\n",
    "                '1 stick butter'\n",
    "            ],\n",
    "            'instructions': [\n",
    "                'melt some stuff',\n",
    "                'mix a thing',\n",
    "                'bake it baby'\n",
    "            ]\n",
    "        }"
   ]
  },
  {
   "cell_type": "code",
   "execution_count": 4,
   "metadata": {},
   "outputs": [
    {
     "name": "stdout",
     "output_type": "stream",
     "text": [
      "Please visit this URL to authorize this application: https://accounts.google.com/o/oauth2/auth?response_type=code&client_id=805000311653-7l1nu7a60gj2h7af6o72v121gh3p5ql2.apps.googleusercontent.com&redirect_uri=http%3A%2F%2Flocalhost%3A65336%2F&scope=https%3A%2F%2Fwww.googleapis.com%2Fauth%2Fdrive.metadata.readonly+https%3A%2F%2Fwww.googleapis.com%2Fauth%2Fdocuments&state=29MPOl0xll1W7Qc7hcsLVdlmdHXIG0&access_type=offline\n",
      "The Recipe Folder ID is 0B3VD078tlYCcOFJUOWtUQ1JGSDg\n"
     ]
    }
   ],
   "source": [
    "creds = google_api.check_token()\n",
    "# creds = google_api.check_token()\n",
    "recipe_folder = google_api.get_recipe_folder(creds)\n",
    "print('The Recipe Folder ID is', recipe_folder)\n",
    "\n",
    "recipes = google_api.get_recipes(creds, recipe_folder)"
   ]
  },
  {
   "cell_type": "code",
   "execution_count": 5,
   "metadata": {},
   "outputs": [],
   "source": [
    "try:\n",
    "    service = build('docs', 'v1', credentials=creds)\n",
    "\n",
    "    # Retrieve the documents contents from the Docs service.\n",
    "    # document = service.documents().get(documentId=DOC_ID).execute()\n",
    "except HttpError as err:\n",
    "        print(err)"
   ]
  },
  {
   "cell_type": "code",
   "execution_count": 6,
   "metadata": {},
   "outputs": [
    {
     "name": "stdout",
     "output_type": "stream",
     "text": [
      "Ingredients\n",
      " 13\n",
      "1 cup sugar\n",
      "1/2 cup cocoa powder\n",
      "1 stick butter\n",
      "Instructions\n",
      " 74\n",
      "melt some stuff\n",
      "mix a thing\n",
      "bake it baby\n"
     ]
    },
    {
     "data": {
      "text/plain": [
       "{'requests': [{'insertText': {'endOfSegmentLocation': {},\n",
       "    'text': 'Ingredients\\n'}},\n",
       "  {'insertText': {'endOfSegmentLocation': {}, 'text': '1 cup sugar\\n'}},\n",
       "  {'insertText': {'endOfSegmentLocation': {},\n",
       "    'text': '1/2 cup cocoa powder\\n'}},\n",
       "  {'insertText': {'endOfSegmentLocation': {}, 'text': '1 stick butter\\n'}},\n",
       "  {'createParagraphBullets': {'range': {'startIndex': 13, 'endIndex': 61},\n",
       "    'bulletPreset': 'BULLET_STAR_CIRCLE_SQUARE'}},\n",
       "  {'insertText': {'endOfSegmentLocation': {}, 'text': 'Instructions\\n'}},\n",
       "  {'insertText': {'endOfSegmentLocation': {}, 'text': 'Melt some stuff\\n'}},\n",
       "  {'insertText': {'endOfSegmentLocation': {}, 'text': 'Mix a thing\\n'}},\n",
       "  {'insertText': {'endOfSegmentLocation': {}, 'text': 'Bake it baby\\n'}},\n",
       "  {'createParagraphBullets': {'range': {'startIndex': 74, 'endIndex': 115},\n",
       "    'bulletPreset': 'BULLET_STAR_CIRCLE_SQUARE'}}]}"
      ]
     },
     "execution_count": 6,
     "metadata": {},
     "output_type": "execute_result"
    }
   ],
   "source": [
    "body_dict = {\n",
    "    'requests': []\n",
    "}\n",
    "index = 1\n",
    "for key in recipe_dict.keys():\n",
    "    val = f\"{key.capitalize()}\\n\"\n",
    "    body_dict['requests'].append(\n",
    "        {\n",
    "            \"insertText\": {\n",
    "                \"endOfSegmentLocation\": {},\n",
    "                \"text\": val\n",
    "            }\n",
    "        }\n",
    "    )\n",
    "    index += len(val)\n",
    "    print(val, index)\n",
    "    start_index = index\n",
    "    for i in recipe_dict[key]:\n",
    "        val = f\"{i.capitalize()}\\n\"\n",
    "        index += len(val)\n",
    "        body_dict['requests'].append(\n",
    "            {\n",
    "                \"insertText\": {\n",
    "                    \"endOfSegmentLocation\": {},\n",
    "                    \"text\": val\n",
    "                }\n",
    "            }\n",
    "        )\n",
    "        print(i)\n",
    "\n",
    "    body_dict['requests'].append(\n",
    "        {\n",
    "            \"createParagraphBullets\": {\n",
    "                \"range\": {\n",
    "                    \"startIndex\": start_index,\n",
    "                    \"endIndex\": index\n",
    "                },\n",
    "                \"bulletPreset\": \"BULLET_STAR_CIRCLE_SQUARE\"\n",
    "            }\n",
    "        }\n",
    "    )\n",
    "\n",
    "body_dict"
   ]
  },
  {
   "cell_type": "code",
   "execution_count": 16,
   "metadata": {},
   "outputs": [],
   "source": [
    "try:\n",
    "    service = build('docs', 'v1', credentials=creds)\n",
    "\n",
    "    # Retrieve the documents contents from the Docs service.\n",
    "    # document = service.documents().get(documentId=DOC_ID).execute()\n",
    "    doc_update = service.documents().batchUpdate(documentId=DOC_ID, body=body_dict).execute()\n",
    "except HttpError as err:\n",
    "    print(err)\n"
   ]
  },
  {
   "cell_type": "code",
   "execution_count": null,
   "metadata": {},
   "outputs": [],
   "source": []
  }
 ],
 "metadata": {
  "kernelspec": {
   "display_name": "Python 3.10.4 (conda)",
   "language": "python",
   "name": "python3"
  },
  "language_info": {
   "codemirror_mode": {
    "name": "ipython",
    "version": 3
   },
   "file_extension": ".py",
   "mimetype": "text/x-python",
   "name": "python",
   "nbconvert_exporter": "python",
   "pygments_lexer": "ipython3",
   "version": "3.10.4"
  },
  "orig_nbformat": 4,
  "vscode": {
   "interpreter": {
    "hash": "a97577f0c82dd8401d529dd42f2c48e03647efdf6dd4dbf23a527790f3b3e855"
   }
  }
 },
 "nbformat": 4,
 "nbformat_minor": 2
}
