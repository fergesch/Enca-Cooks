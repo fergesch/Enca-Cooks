{
 "cells": [
  {
   "cell_type": "code",
   "execution_count": 1,
   "metadata": {},
   "outputs": [],
   "source": [
    "from __future__ import print_function\n",
    "\n",
    "import os.path\n",
    "\n",
    "from google.auth.transport.requests import Request\n",
    "from google.oauth2.credentials import Credentials\n",
    "from google_auth_oauthlib.flow import InstalledAppFlow\n",
    "from googleapiclient.discovery import build\n",
    "from googleapiclient.errors import HttpError\n",
    "\n",
    "# If modifying these scopes, delete the file token_docs.json.\n",
    "SCOPES = ['https://www.googleapis.com/auth/documents.readonly']\n",
    "\n",
    "# The ID of a sample document.\n",
    "# DOCUMENT_ID = '195j9eDD3ccgjQRttHhJPymLJUCOUjs-jmwTrekvdjFE'\n",
    "# DOCUMENT_ID = '18eMPMVJ6KxhIOo_jQ3qbmZzWXD7rU9iWgo-LkwtZKZw' # Brownies\n",
    "DOCUMENT_ID = '1h26NSswPFpFjsmFrIXl1au6VFodjEnx6ZSKlQ1yJ0-c' # Meatballs"
   ]
  },
  {
   "cell_type": "code",
   "execution_count": 2,
   "metadata": {},
   "outputs": [
    {
     "name": "stdout",
     "output_type": "stream",
     "text": [
      "The title of the document is: Grandma's meatballs\n"
     ]
    }
   ],
   "source": [
    "# def main():\n",
    "\"\"\"Shows basic usage of the Docs API.\n",
    "Prints the title of a sample document.\n",
    "\"\"\"\n",
    "creds = None\n",
    "# The file token_docs.json stores the user's access and refresh tokens, and is\n",
    "# created automatically when the authorization flow completes for the first\n",
    "# time.\n",
    "if os.path.exists('token_docs.json'):\n",
    "    creds = Credentials.from_authorized_user_file('token_docs.json', SCOPES)\n",
    "# If there are no (valid) credentials available, let the user log in.\n",
    "if not creds or not creds.valid:\n",
    "    if creds and creds.expired and creds.refresh_token:\n",
    "        creds.refresh(Request())\n",
    "    else:\n",
    "        flow = InstalledAppFlow.from_client_secrets_file(\n",
    "            'credentials.json', SCOPES)\n",
    "        creds = flow.run_local_server(port=0)\n",
    "    # Save the credentials for the next run\n",
    "    with open('token_docs.json', 'w') as token:\n",
    "        token.write(creds.to_json())\n",
    "\n",
    "try:\n",
    "    service = build('docs', 'v1', credentials=creds)\n",
    "\n",
    "    # Retrieve the documents contents from the Docs service.\n",
    "    document = service.documents().get(documentId=DOCUMENT_ID).execute()\n",
    "\n",
    "    print('The title of the document is: {}'.format(document.get('title')))\n",
    "except HttpError as err:\n",
    "    print(err)"
   ]
  },
  {
   "cell_type": "code",
   "execution_count": 3,
   "metadata": {},
   "outputs": [
    {
     "name": "stdout",
     "output_type": "stream",
     "text": [
      "Ingredients\n",
      "2 lbs ground beef\n",
      "6 slices of toast (1 ¼ cups)\n",
      "6 tbsp parsley\n",
      "4 cloves of garlic\n",
      "4 eggs\n",
      "6 tbsp Parmesan cheese\n",
      "2 tsp salt\n",
      "1 tsp pepper\n",
      "\n",
      "Instructions\n",
      "Bake 25-30 minutes\n"
     ]
    }
   ],
   "source": [
    "recipe_dict = {\n",
    "    'ingredients': [],\n",
    "    'instructions': []\n",
    "}\n",
    "section = None\n",
    "for i in document.get('body').get('content')[1:]:\n",
    "    l = ''.join([j.get('textRun', {}).get('content') for j in i.get('paragraph', {}).get('elements')]).rstrip()\n",
    "    print(l)\n",
    "    if l.lower() in recipe_dict.keys():\n",
    "        section = l.lower()\n",
    "    elif section and len(l) > 0:\n",
    "        recipe_dict[section].append(l)\n"
   ]
  },
  {
   "cell_type": "code",
   "execution_count": 4,
   "metadata": {},
   "outputs": [
    {
     "data": {
      "text/plain": [
       "{'ingredients': ['2 lbs ground beef',\n",
       "  '6 slices of toast (1 ¼ cups)',\n",
       "  '6 tbsp parsley',\n",
       "  '4 cloves of garlic',\n",
       "  '4 eggs',\n",
       "  '6 tbsp Parmesan cheese',\n",
       "  '2 tsp salt',\n",
       "  '1 tsp pepper'],\n",
       " 'instructions': ['Bake 25-30 minutes']}"
      ]
     },
     "execution_count": 4,
     "metadata": {},
     "output_type": "execute_result"
    }
   ],
   "source": [
    "recipe_dict"
   ]
  },
  {
   "cell_type": "code",
   "execution_count": null,
   "metadata": {},
   "outputs": [],
   "source": []
  }
 ],
 "metadata": {
  "kernelspec": {
   "display_name": "Python 3.10.4 (conda)",
   "language": "python",
   "name": "python3"
  },
  "language_info": {
   "codemirror_mode": {
    "name": "ipython",
    "version": 3
   },
   "file_extension": ".py",
   "mimetype": "text/x-python",
   "name": "python",
   "nbconvert_exporter": "python",
   "pygments_lexer": "ipython3",
   "version": "3.10.4"
  },
  "orig_nbformat": 4,
  "vscode": {
   "interpreter": {
    "hash": "a97577f0c82dd8401d529dd42f2c48e03647efdf6dd4dbf23a527790f3b3e855"
   }
  }
 },
 "nbformat": 4,
 "nbformat_minor": 2
}
